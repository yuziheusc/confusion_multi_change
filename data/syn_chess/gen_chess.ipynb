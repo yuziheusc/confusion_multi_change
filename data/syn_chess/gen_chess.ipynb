{
 "cells": [
  {
   "cell_type": "code",
   "execution_count": null,
   "id": "2daba066",
   "metadata": {},
   "outputs": [],
   "source": [
    "import numpy as np\n",
    "import pandas as pd\n",
    "import os\n",
    "import matplotlib.pyplot as plt"
   ]
  },
  {
   "cell_type": "code",
   "execution_count": null,
   "id": "b7d3eac8",
   "metadata": {},
   "outputs": [],
   "source": [
    "def gen_synthetic_chess(n, d, seg, t0=0.5, fnou=None):\n",
    "    \n",
    "    print(\"data size = %d, dimension = %d, segments = %d\"%(n, d, seg))\n",
    "    \n",
    "    if(False):\n",
    "        x = np.random.uniform(0,1,size=(n,d))\n",
    "        x_d = (x/(1.0/seg)).astype(\"int\")\n",
    "        y = (np.sum(x_d%2, axis=1))%2\n",
    "        t = np.random.uniform(0,t0,size=n)*(1-y) + np.random.uniform(t0,1.0,size=n)*(y)\n",
    "    \n",
    "    if(True):\n",
    "        x_gen = np.random.uniform(0,1,size=(2*n,d))\n",
    "        x_d = (x_gen/(1.0/seg)).astype(\"int\")\n",
    "        y = (np.sum(x_d%2, axis=1))%2\n",
    "        \n",
    "        t = np.random.uniform(0.0, 1.0, size=n)\n",
    "        n0 = np.sum(t<=t0)\n",
    "        n1 = n - n0\n",
    "        \n",
    "        x = np.zeros((n,d))\n",
    "        #print(y.shape)\n",
    "        #print(x_gen[y==0, :].shape)\n",
    "        \n",
    "        x[t<=t0, :] = x_gen[y==0, :][:n0, :]\n",
    "        x[t>t0, :] = x_gen[y==1, :][:n1, :]\n",
    "    \n",
    "    #print(np.mean(t), np.median(t))\n",
    "    \n",
    "    df = pd.DataFrame()\n",
    "    features = []\n",
    "    for i in range(d):\n",
    "        df[\"x%d\"%(i)] = x[:, i]\n",
    "        features.append(\"x%d\"%(i))\n",
    "    #df[\"y\"] = y\n",
    "    df[\"t\"] = t\n",
    "\n",
    "    df = df.sort_values(by=['t'])\n",
    "    \n",
    "    if(fnou is not None):\n",
    "        df.to_csv(fnou, index=False)\n",
    "    \n",
    "    return df"
   ]
  },
  {
   "cell_type": "code",
   "execution_count": null,
   "id": "6d96fbee",
   "metadata": {},
   "outputs": [],
   "source": [
    "_ = gen_synthetic_chess(4000, 2, 4, t0=0.60, fnou=\"./4by4_060_4000.csv\")"
   ]
  },
  {
   "cell_type": "code",
   "execution_count": null,
   "id": "fd7095f4",
   "metadata": {},
   "outputs": [],
   "source": []
  }
 ],
 "metadata": {
  "kernelspec": {
   "display_name": "Python 3",
   "language": "python",
   "name": "python3"
  },
  "language_info": {
   "codemirror_mode": {
    "name": "ipython",
    "version": 3
   },
   "file_extension": ".py",
   "mimetype": "text/x-python",
   "name": "python",
   "nbconvert_exporter": "python",
   "pygments_lexer": "ipython3",
   "version": "3.6.13"
  }
 },
 "nbformat": 4,
 "nbformat_minor": 5
}
