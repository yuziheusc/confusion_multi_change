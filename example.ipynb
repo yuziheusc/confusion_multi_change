{
 "cells": [
  {
   "cell_type": "code",
   "execution_count": null,
   "id": "c70230b8",
   "metadata": {},
   "outputs": [],
   "source": [
    "import numpy as np\n",
    "import pandas as pd\n",
    "import metachange\n",
    "\n",
    "from sklearn.ensemble import RandomForestClassifier\n",
    "from sklearn.neural_network import MLPClassifier"
   ]
  },
  {
   "cell_type": "markdown",
   "id": "254cd138",
   "metadata": {},
   "source": [
    "## run on simple np data"
   ]
  },
  {
   "cell_type": "code",
   "execution_count": null,
   "id": "146d70aa",
   "metadata": {},
   "outputs": [],
   "source": [
    "X = np.array([[0,1]]*1000 + [[1,0]]*1000)\n",
    "t = np.arange(2000)*1./2000"
   ]
  },
  {
   "cell_type": "code",
   "execution_count": null,
   "id": "c8335433",
   "metadata": {},
   "outputs": [],
   "source": [
    "clf_rf = RandomForestClassifier(max_depth=32, criterion=\"entropy\", random_state=0)\n",
    "res_rf = metachange.meta_change_detect_np(X, t, clf_rf)"
   ]
  },
  {
   "cell_type": "code",
   "execution_count": null,
   "id": "1b41ef4c",
   "metadata": {},
   "outputs": [],
   "source": [
    "metachange.plot_curves(res_rf)"
   ]
  },
  {
   "cell_type": "code",
   "execution_count": null,
   "id": "7929d2e9",
   "metadata": {},
   "outputs": [],
   "source": [
    "clf_mlp = MLPClassifier(random_state=1, max_iter=300,\\\n",
    "                    early_stopping=True,\\\n",
    "                    activation='relu', hidden_layer_sizes=(100,100,100))\n",
    "res_mlp = metachange.meta_change_detect_np(X, t, clf_mlp)"
   ]
  },
  {
   "cell_type": "code",
   "execution_count": null,
   "id": "6decf6a2",
   "metadata": {},
   "outputs": [],
   "source": [
    "metachange.plot_curves(res_mlp)"
   ]
  },
  {
   "cell_type": "markdown",
   "id": "25c07d1b",
   "metadata": {},
   "source": [
    "## run on synthetic chessboard data"
   ]
  },
  {
   "cell_type": "code",
   "execution_count": null,
   "id": "29b62307",
   "metadata": {},
   "outputs": [],
   "source": [
    "path = \"./data/syn_chess/4by4_060_4000.csv\"\n",
    "df = pd.read_csv(path)\n",
    "print(\"shape = \", df.shape)\n",
    "print(\"columns = \", df.columns)\n",
    "\n",
    "X = df[[\"x0\", \"x1\"]].values\n",
    "t = df[\"t\"].values"
   ]
  },
  {
   "cell_type": "code",
   "execution_count": null,
   "id": "46cb1c59",
   "metadata": {},
   "outputs": [],
   "source": [
    "## using random forest\n",
    "clf_rf = RandomForestClassifier(max_depth=32, criterion=\"entropy\", random_state=0)\n",
    "res_chess_rf = metachange.meta_change_detect_np(X, t, clf_rf)"
   ]
  },
  {
   "cell_type": "code",
   "execution_count": null,
   "id": "86e01190",
   "metadata": {},
   "outputs": [],
   "source": [
    "metachange.plot_curves(res_chess_rf)"
   ]
  },
  {
   "cell_type": "code",
   "execution_count": null,
   "id": "452c38de",
   "metadata": {},
   "outputs": [],
   "source": [
    "## using mlp\n",
    "clf_mlp = MLPClassifier(random_state=1, max_iter=300,\\\n",
    "                    early_stopping=True,\\\n",
    "                    activation='relu', hidden_layer_sizes=(100,100,100))\n",
    "res_chess_mlp = metachange.meta_change_detect_np(X, t, clf_mlp)"
   ]
  },
  {
   "cell_type": "code",
   "execution_count": null,
   "id": "cff9e3f8",
   "metadata": {},
   "outputs": [],
   "source": [
    "metachange.plot_curves(res_chess_mlp)"
   ]
  },
  {
   "cell_type": "markdown",
   "id": "af8e9fc7",
   "metadata": {},
   "source": [
    "## binary segment for multiple change"
   ]
  },
  {
   "cell_type": "code",
   "execution_count": null,
   "id": "7227a21f",
   "metadata": {},
   "outputs": [],
   "source": [
    "X = np.array([[0,1]]*500 + [[1,0]]*500 + [[2,0]]*500 + [[2,1]]*500)\n",
    "t = np.arange(2000)*1./2000"
   ]
  },
  {
   "cell_type": "code",
   "execution_count": null,
   "id": "09f2c8b3",
   "metadata": {},
   "outputs": [],
   "source": [
    "clf_rf = RandomForestClassifier(max_depth=32, criterion=\"entropy\", random_state=0)\n",
    "res_multi = metachange.change_point_tree(X, t, clf_rf, min_range=0.20)"
   ]
  },
  {
   "cell_type": "code",
   "execution_count": null,
   "id": "0559a461",
   "metadata": {},
   "outputs": [],
   "source": [
    "## define a funciton which generates node text\n",
    "def make_node_text(data):\n",
    "    t_left = data[\"t_left\"]\n",
    "    t_right = data[\"t_right\"]\n",
    "    \n",
    "    if \"t0\" in data:\n",
    "        header = f't_0 = {data[\"t0\"]:.4f}\\n alpha = {data[\"alpha\"]:.4f}'\n",
    "    else:\n",
    "        header = \"Leaf\"\n",
    "    return f\"{header}\\nRange:{t_left:.4f}-{t_right:.4f}\"\n",
    "    \n",
    "\n",
    "metachange.show_tree(res_multi, make_node_text)"
   ]
  },
  {
   "cell_type": "markdown",
   "id": "5881a4f0",
   "metadata": {},
   "source": [
    "## run tensorflow CNN model on image data"
   ]
  },
  {
   "cell_type": "code",
   "execution_count": null,
   "id": "e3253a63",
   "metadata": {},
   "outputs": [],
   "source": [
    "path = \"./data/syn_image/image_64_040_2000_noize_010\"\n",
    "metachange.train_random_split_tf(path, n_batch=16, n_epoch=20)"
   ]
  },
  {
   "cell_type": "code",
   "execution_count": null,
   "id": "0b9560da",
   "metadata": {},
   "outputs": [],
   "source": [
    "res_image = metachange.meta_change_from_file(path)"
   ]
  },
  {
   "cell_type": "code",
   "execution_count": null,
   "id": "612036b0",
   "metadata": {},
   "outputs": [],
   "source": [
    "metachange.plot_curves(res_image)"
   ]
  },
  {
   "cell_type": "code",
   "execution_count": null,
   "id": "5869f689",
   "metadata": {},
   "outputs": [],
   "source": []
  }
 ],
 "metadata": {
  "kernelspec": {
   "display_name": "Python 3",
   "language": "python",
   "name": "python3"
  },
  "language_info": {
   "codemirror_mode": {
    "name": "ipython",
    "version": 3
   },
   "file_extension": ".py",
   "mimetype": "text/x-python",
   "name": "python",
   "nbconvert_exporter": "python",
   "pygments_lexer": "ipython3",
   "version": "3.6.13"
  }
 },
 "nbformat": 4,
 "nbformat_minor": 5
}
